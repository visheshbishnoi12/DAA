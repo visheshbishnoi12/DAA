{
  "nbformat": 4,
  "nbformat_minor": 0,
  "metadata": {
    "colab": {
      "provenance": []
    },
    "kernelspec": {
      "name": "python3",
      "display_name": "Python 3"
    },
    "language_info": {
      "name": "python"
    }
  },
  "cells": [
    {
      "cell_type": "markdown",
      "source": [
        "1ST QUESTION-KNAPSACK"
      ],
      "metadata": {
        "id": "wpIOBj6Hv-WC"
      }
    },
    {
      "cell_type": "code",
      "source": [
        "#!/bin/python3\n",
        "\n",
        "import math\n",
        "import os\n",
        "import random\n",
        "import re\n",
        "import sys\n",
        "\n",
        "#\n",
        "# Complete the 'unboundedKnapsack' function below.\n",
        "#\n",
        "# The function is expected to return an INTEGER.\n",
        "# The function accepts following parameters:\n",
        "#  1. INTEGER k\n",
        "#  2. INTEGER_ARRAY arr\n",
        "#\n",
        "\n",
        "def unboundedKnapsack(k, arr):\n",
        "    dp = [False] * (k + 1)\n",
        "    dp[0] = True\n",
        "    for num in arr:\n",
        "        for j in range(num, k + 1):\n",
        "            if dp[j - num]:\n",
        "                dp[j] = True\n",
        "    for j in range(k, -1, -1):\n",
        "        if dp[j]:\n",
        "            return j\n",
        "    return 0\n",
        "\n",
        "if __name__ == '__main__':\n",
        "    fptr = open(os.environ['OUTPUT_PATH'], 'w')\n",
        "\n",
        "    t = int(input().strip())\n",
        "\n",
        "    for _ in range(t):\n",
        "        first_multiple_input = input().rstrip().split()\n",
        "        n = int(first_multiple_input[0])\n",
        "        k = int(first_multiple_input[1])\n",
        "        arr = list(map(int, input().rstrip().split()))\n",
        "\n",
        "        result = unboundedKnapsack(k, arr)\n",
        "\n",
        "        fptr.write(str(result) + '\\n')\n",
        "\n",
        "    fptr.close()"
      ],
      "metadata": {
        "id": "CnSMORPmxBKq"
      },
      "execution_count": null,
      "outputs": []
    },
    {
      "cell_type": "markdown",
      "source": [
        "2 ND QUES-CLOUDY DAY"
      ],
      "metadata": {
        "id": "DkVdDcfOwRK8"
      }
    },
    {
      "cell_type": "code",
      "source": [
        "#!/bin/python3\n",
        "\n",
        "import os\n",
        "import sys\n",
        "from collections import defaultdict\n",
        "\n",
        "#\n",
        "# Complete the 'maximumPeople' function below.\n",
        "#\n",
        "# The function is expected to return a LONG_INTEGER.\n",
        "# The function accepts following parameters:\n",
        "#  1. LONG_INTEGER_ARRAY p\n",
        "#  2. LONG_INTEGER_ARRAY x\n",
        "#  3. LONG_INTEGER_ARRAY y\n",
        "#  4. LONG_INTEGER_ARRAY r\n",
        "#\n",
        "\n",
        "def maximumPeople(p, x, y, r):\n",
        "    n = len(p)\n",
        "    m = len(y)\n",
        "\n",
        "    events = []\n",
        "    for i in range(n):\n",
        "        events.append((x[i], 'town', p[i]))\n",
        "\n",
        "    for j in range(m):\n",
        "        events.append((y[j] - r[j], 'cloud_start', j))\n",
        "        events.append((y[j] + r[j] + 1, 'cloud_end', j))\n",
        "\n",
        "    events.sort()\n",
        "\n",
        "    cloud_coverage = defaultdict(int)\n",
        "    current_clouds = set()\n",
        "    always_sunny_population = 0\n",
        "    removal_impact = defaultdict(int)\n",
        "\n",
        "    for event in events:\n",
        "        if event[1] == 'town':\n",
        "            if len(current_clouds) == 0:\n",
        "                always_sunny_population += event[2]\n",
        "            elif len(current_clouds) == 1:\n",
        "                cloud_id = next(iter(current_clouds))\n",
        "                removal_impact[cloud_id] += event[2]\n",
        "        elif event[1] == 'cloud_start':\n",
        "            cloud_coverage[event[2]] = 0\n",
        "            current_clouds.add(event[2])\n",
        "        elif event[1] == 'cloud_end':\n",
        "            current_clouds.remove(event[2])\n",
        "\n",
        "    max_sunny_with_removal = max(removal_impact.values(), default=0)\n",
        "\n",
        "    return always_sunny_population + max_sunny_with_removal\n",
        "\n",
        "if __name__ == '__main__':\n",
        "    fptr = open(os.environ['OUTPUT_PATH'], 'w')\n",
        "\n",
        "    n = int(input().strip())\n",
        "\n",
        "    p = list(map(int, input().rstrip().split()))\n",
        "\n",
        "    x = list(map(int, input().rstrip().split()))\n",
        "\n",
        "    m = int(input().strip())\n",
        "\n",
        "    y = list(map(int, input().rstrip().split()))\n",
        "\n",
        "    r = list(map(int, input().rstrip().split()))\n",
        "\n",
        "    result = maximumPeople(p, x, y, r)\n",
        "\n",
        "    fptr.write(str(result) + '\\n')\n",
        "\n",
        "    fptr.close()\n",
        "\n"
      ],
      "metadata": {
        "id": "97XNjXA3xDKi"
      },
      "execution_count": null,
      "outputs": []
    },
    {
      "cell_type": "markdown",
      "source": [
        "3 RD QUES-QUICK SORT1"
      ],
      "metadata": {
        "id": "fNDnJ7HjwcM6"
      }
    },
    {
      "cell_type": "code",
      "source": [
        "#!/bin/python3\n",
        "\n",
        "import math\n",
        "import os\n",
        "import random\n",
        "import re\n",
        "import sys\n",
        "\n",
        "#\n",
        "# Complete the 'quickSort' function below.\n",
        "#\n",
        "# The function is expected to return an INTEGER_ARRAY.\n",
        "# The function accepts INTEGER_ARRAY arr as parameter.\n",
        "#\n",
        "\n",
        "def quickSort(arr):\n",
        "    pivot = arr[0]\n",
        "    left = []\n",
        "    equal = []\n",
        "    right = []\n",
        "    for num in arr:\n",
        "        if num < pivot:\n",
        "            left.append(num)\n",
        "        elif num == pivot:\n",
        "            equal.append(num)\n",
        "        else:\n",
        "            right.append(num)\n",
        "    return left + equal + right\n",
        "\n",
        "if __name__ == '__main__':\n",
        "    fptr = open(os.environ['OUTPUT_PATH'], 'w')\n",
        "\n",
        "    n = int(input().strip())\n",
        "\n",
        "    arr = list(map(int, input().rstrip().split()))\n",
        "\n",
        "    result = quickSort(arr)\n",
        "\n",
        "    fptr.write(' '.join(map(str, result)))\n",
        "    fptr.write('\\n')\n",
        "\n",
        "    fptr.close()\n"
      ],
      "metadata": {
        "id": "uew17AerxMyg"
      },
      "execution_count": null,
      "outputs": []
    },
    {
      "cell_type": "markdown",
      "source": [
        "4 TH QUES-STRING CONSTRUCTION"
      ],
      "metadata": {
        "id": "-pLoz9FuwkPX"
      }
    },
    {
      "cell_type": "code",
      "source": [
        "#!/bin/python3\n",
        "\n",
        "import math\n",
        "import os\n",
        "import random\n",
        "import re\n",
        "import sys\n",
        "\n",
        "#\n",
        "# Complete the 'stringConstruction' function below.\n",
        "#\n",
        "# The function is expected to return an INTEGER.\n",
        "# The function accepts STRING s as parameter.\n",
        "#\n",
        "\n",
        "def stringConstruction(s):\n",
        "    unique_characters = set(s)\n",
        "    return len(unique_characters)\n",
        "\n",
        "if __name__ == '__main__':\n",
        "    fptr = open(os.environ['OUTPUT_PATH'], 'w')\n",
        "\n",
        "    q = int(input().strip())\n",
        "\n",
        "    for q_itr in range(q):\n",
        "        s = input().strip()\n",
        "\n",
        "        result = stringConstruction(s)\n",
        "\n",
        "        fptr.write(str(result) + '\\n')\n",
        "\n",
        "    fptr.close()\n",
        "\n"
      ],
      "metadata": {
        "id": "IpqeUcIVxTSz"
      },
      "execution_count": null,
      "outputs": []
    }
  ]
}